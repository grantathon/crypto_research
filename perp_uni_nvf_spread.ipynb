{
 "cells": [
  {
   "cell_type": "markdown",
   "id": "64d4f995-92f6-4b86-86c1-ae4113e3e572",
   "metadata": {},
   "source": [
    "# PERP-UNI NVP Spread Investment Monitor"
   ]
  },
  {
   "cell_type": "code",
   "execution_count": 144,
   "id": "e4f79109-442f-4a90-b707-80dec0067833",
   "metadata": {},
   "outputs": [
    {
     "name": "stdout",
     "output_type": "stream",
     "text": [
      "The autoreload extension is already loaded. To reload it, use:\n",
      "  %reload_ext autoreload\n"
     ]
    }
   ],
   "source": [
    "import pandas as pd\n",
    "import numpy as np\n",
    "import matplotlib.pyplot as plt\n",
    "\n",
    "import data\n",
    "import analytics\n",
    "\n",
    "%load_ext autoreload\n",
    "%autoreload 2"
   ]
  },
  {
   "cell_type": "markdown",
   "id": "827f7bc2-4c23-48e0-8779-8d106be822bc",
   "metadata": {},
   "source": [
    "## Inputs"
   ]
  },
  {
   "cell_type": "code",
   "execution_count": 145,
   "id": "4b1f352d-a853-458a-b8c9-46e7b3ea746e",
   "metadata": {},
   "outputs": [],
   "source": [
    "start_date = '2020-09-09'\n",
    "end_date = '2021-09-24'\n",
    "dexs = [\n",
    "    'uniswap_v1',\n",
    "    'uniswap_v2',\n",
    "    'uniswap',\n",
    "    'perpetual_protocol',\n",
    "]\n",
    "coins = [\n",
    "    'uniswap',\n",
    "    'perpetual-protocol',\n",
    "]\n",
    "benchmark = 'defipulse-index'\n",
    "nvf_avg_window = 30\n",
    "annualization_factor = 365\n",
    "uni_trade_fee = 0.003\n",
    "perp_trade_fee = 0.001"
   ]
  },
  {
   "cell_type": "markdown",
   "id": "ccbd6205-0510-40b6-94bb-99b0c72ab605",
   "metadata": {},
   "source": [
    "## Get Data"
   ]
  },
  {
   "cell_type": "code",
   "execution_count": 149,
   "id": "a3ef1088-c3f6-406f-a754-8560b46a31b0",
   "metadata": {},
   "outputs": [
    {
     "name": "stdout",
     "output_type": "stream",
     "text": [
      "Getting DEX trading volume...\n",
      "Getting coin market data...\n",
      "- bitcoin\n",
      "Got coin market data\n",
      "- uniswap_v1\n",
      "- uniswap_v2\n",
      "- perpetual_protocol\n",
      "- uniswap\n",
      "Got DEX trading volume\n",
      "Getting coin market data...\n",
      "- uniswap\n",
      "- perpetual-protocol\n",
      "- defipulse-index\n",
      "Got coin market data\n"
     ]
    }
   ],
   "source": [
    "# Call CoinGecko for market data\n",
    "coins.append(benchmark)\n",
    "dex_trading_volume = data.dex_trading_volume(dexs, start_date, end_date)\n",
    "coin_market_data = data.coin_market_data(coins, start_date, end_date)\n",
    "\n",
    "# Prepare DEX trading volume data\n",
    "dex_trading_volume = dex_trading_volume.fillna(0)\n",
    "uni_tv = dex_trading_volume['uniswap'] + dex_trading_volume['uniswap_v2'] + dex_trading_volume['uniswap_v1']\n",
    "perp_tv = dex_trading_volume['perpetual_protocol']\n",
    "\n",
    "# Prepare coin and benchmark market data\n",
    "uni_price = coin_market_data['uniswap price']\n",
    "uni_mc = coin_market_data['uniswap market cap']\n",
    "perp_price = coin_market_data['perpetual-protocol price']\n",
    "perp_mc = coin_market_data['perpetual-protocol market cap']\n",
    "benchmark_price = coin_market_data['defipulse-index price']\n",
    "benchmark_mc = coin_market_data['defipulse-index market cap']\n",
    "\n",
    "# Import and format trade data\n",
    "funding_payments = pd.read_csv('input/funding_payments.csv', index_col='time', parse_dates=True)\n",
    "pnl = pd.read_csv('input/pnl.csv', index_col='day')\n",
    "pnl = pnl.drop(' Total')\n",
    "pnl.index = pnl.index.map(lambda x: pd.to_datetime(float(x), unit='s'))\n",
    "\n",
    "# Prepare trade data\n",
    "funding_payments = funding_payments.groupby('future').resample('D').sum()\n",
    "perp_fp = funding_payments.loc['PERP-PERP']['payment']\n",
    "perp_fp.index = perp_fp.index.tz_localize(None)\n",
    "uni_fp = funding_payments.loc['UNI-PERP']['payment']\n",
    "uni_fp.index = uni_fp.index.tz_localize(None)\n",
    "perp_pnl = pnl['PERP-PERP'].sort_index()\n",
    "uni_pnl = pnl['UNI-PERP'].sort_index()"
   ]
  },
  {
   "cell_type": "markdown",
   "id": "dec98c1b-7e6c-4b11-9804-bf56cf58b46e",
   "metadata": {},
   "source": [
    "## Compute Analytics"
   ]
  },
  {
   "cell_type": "code",
   "execution_count": 152,
   "id": "3a08985f-1117-477b-ac49-f3efacca342b",
   "metadata": {},
   "outputs": [],
   "source": [
    "# NVF\n",
    "uni_nvf = analytics.nvf(uni_mc, uni_tv, uni_trade_fee, nvf_avg_window, annualization_factor)\n",
    "perp_nvf = analytics.nvf(perp_mc, perp_tv, perp_trade_fee, nvf_avg_window, annualization_factor)\n",
    "\n",
    "# NVF spread (absolute & % diff)\n",
    "abs_nvf_spread = (perp_nvf - uni_nvf).dropna()\n",
    "perc_nvf_spread = (abs_nvf_spread / uni_nvf).dropna()\n",
    "\n",
    "# TODO: Overview trade stats\n"
   ]
  },
  {
   "cell_type": "markdown",
   "id": "e711ca35-7cf2-4a7e-b172-8ba40327366c",
   "metadata": {},
   "source": [
    "## Present Analytics"
   ]
  },
  {
   "cell_type": "code",
   "execution_count": null,
   "id": "7c4d3405-6d6a-44b0-8766-81715b5cdc3e",
   "metadata": {},
   "outputs": [],
   "source": []
  },
  {
   "cell_type": "markdown",
   "id": "e45e802b-4f83-47be-8ad6-743a20564cfe",
   "metadata": {},
   "source": [
    "## Output Analytics"
   ]
  },
  {
   "cell_type": "code",
   "execution_count": null,
   "id": "998bee39-39b2-4a3f-9d4e-fbf3a6783479",
   "metadata": {},
   "outputs": [],
   "source": []
  }
 ],
 "metadata": {
  "kernelspec": {
   "display_name": "Python 3",
   "language": "python",
   "name": "python3"
  },
  "language_info": {
   "codemirror_mode": {
    "name": "ipython",
    "version": 3
   },
   "file_extension": ".py",
   "mimetype": "text/x-python",
   "name": "python",
   "nbconvert_exporter": "python",
   "pygments_lexer": "ipython3",
   "version": "3.6.9"
  }
 },
 "nbformat": 4,
 "nbformat_minor": 5
}

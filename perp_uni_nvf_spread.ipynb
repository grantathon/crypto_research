{
 "cells": [
  {
   "cell_type": "markdown",
   "id": "64d4f995-92f6-4b86-86c1-ae4113e3e572",
   "metadata": {},
   "source": [
    "# PERP-UNI NVP Spread Investment Monitor"
   ]
  },
  {
   "cell_type": "code",
   "execution_count": 1,
   "id": "e4f79109-442f-4a90-b707-80dec0067833",
   "metadata": {},
   "outputs": [],
   "source": [
    "import numpy as np\n",
    "import pandas as pd\n",
    "import matplotlib.pyplot as plt\n",
    "\n",
    "import data\n",
    "import analytics\n",
    "\n",
    "%load_ext autoreload\n",
    "%autoreload 2"
   ]
  },
  {
   "cell_type": "markdown",
   "id": "827f7bc2-4c23-48e0-8779-8d106be822bc",
   "metadata": {},
   "source": [
    "## Inputs"
   ]
  },
  {
   "cell_type": "code",
   "execution_count": 2,
   "id": "4b1f352d-a853-458a-b8c9-46e7b3ea746e",
   "metadata": {},
   "outputs": [],
   "source": [
    "start_date = '2020-09-09'\n",
    "end_date = '2021-09-25'\n",
    "dexs = [\n",
    "    'uniswap_v1',\n",
    "    'uniswap_v2',\n",
    "    'uniswap',\n",
    "    'perpetual_protocol',\n",
    "]\n",
    "coins = [\n",
    "    'uniswap',\n",
    "    'perpetual-protocol',\n",
    "]\n",
    "benchmark = 'defipulse-index'\n",
    "nvf_avg_window = 30\n",
    "annualization_factor = 365\n",
    "uni_trade_fee = 0.003\n",
    "perp_trade_fee = 0.001\n",
    "initial_capital = 1978.28\n",
    "risk_free_rate = 0"
   ]
  },
  {
   "cell_type": "markdown",
   "id": "ccbd6205-0510-40b6-94bb-99b0c72ab605",
   "metadata": {},
   "source": [
    "## Get Data"
   ]
  },
  {
   "cell_type": "code",
   "execution_count": 3,
   "id": "a3ef1088-c3f6-406f-a754-8560b46a31b0",
   "metadata": {},
   "outputs": [
    {
     "name": "stdout",
     "output_type": "stream",
     "text": [
      "Getting DEX trading volume...\n",
      "Getting coin market data...\n",
      "- bitcoin\n",
      "Got coin market data\n",
      "- uniswap_v1\n",
      "- uniswap\n",
      "- uniswap_v2\n",
      "- perpetual_protocol\n",
      "Got DEX trading volume\n",
      "Getting coin market data...\n",
      "- uniswap\n",
      "- defipulse-index\n",
      "- perpetual-protocol\n",
      "Got coin market data\n"
     ]
    }
   ],
   "source": [
    "start_date = pd.to_datetime(start_date).date()\n",
    "end_date = pd.to_datetime(end_date).date()\n",
    "\n",
    "# Call CoinGecko for market data\n",
    "coins.append(benchmark)\n",
    "dex_trading_volume = data.dex_trading_volume(dexs, start_date, end_date)\n",
    "coin_market_data = data.coin_market_data(coins, start_date, end_date)\n",
    "dex_trading_volume = dex_trading_volume[start_date:end_date]\n",
    "coin_market_data = coin_market_data[start_date:end_date]\n",
    "\n",
    "# Prepare DEX trading volume data\n",
    "dex_trading_volume['uniswap'].fillna(0, inplace=True)\n",
    "dex_trading_volume['uniswap_v2'].fillna(0, inplace=True)\n",
    "dex_trading_volume['uniswap_v1'].fillna(0, inplace=True)\n",
    "uni_tv = dex_trading_volume['uniswap'] + dex_trading_volume['uniswap_v2'] + dex_trading_volume['uniswap_v1']\n",
    "uni_tv = uni_tv[uni_tv != 0]\n",
    "perp_tv = dex_trading_volume['perpetual_protocol'].dropna()\n",
    "\n",
    "# Prepare coin and benchmark market data\n",
    "uni_price = coin_market_data['uniswap price'].dropna()\n",
    "uni_mc = coin_market_data['uniswap market cap'].dropna()\n",
    "perp_price = coin_market_data['perpetual-protocol price'].dropna()\n",
    "perp_mc = coin_market_data['perpetual-protocol market cap'].dropna()\n",
    "benchmark_price = coin_market_data['defipulse-index price'].dropna()\n",
    "benchmark_mc = coin_market_data['defipulse-index market cap'].dropna()\n",
    "\n",
    "# Import and format trade data\n",
    "funding_payments = pd.read_csv('input/funding_payments.csv', index_col='time', parse_dates=True)\n",
    "pnl = pd.read_csv('input/pnl.csv', index_col='day')\n",
    "pnl = pnl.drop(' Total')\n",
    "pnl.index = pnl.index.map(lambda x: pd.to_datetime(float(x), unit='s'))\n",
    "\n",
    "# Prepare trade data\n",
    "funding_payments = funding_payments.groupby('future').resample('D').sum()\n",
    "perp_fp = funding_payments.loc['PERP-PERP']['payment']\n",
    "perp_fp.index = perp_fp.index.tz_localize(None)\n",
    "perp_fp = perp_fp[start_date:end_date]\n",
    "uni_fp = funding_payments.loc['UNI-PERP']['payment']\n",
    "uni_fp.index = uni_fp.index.tz_localize(None)\n",
    "uni_fp = uni_fp[start_date:end_date]\n",
    "perp_pnl = pnl['PERP-PERP'].sort_index()[start_date:end_date]\n",
    "uni_pnl = pnl['UNI-PERP'].sort_index()[start_date:end_date]\n",
    "perp_net_pnl = perp_pnl - perp_fp\n",
    "uni_net_pnl = uni_pnl - uni_fp"
   ]
  },
  {
   "cell_type": "markdown",
   "id": "dec98c1b-7e6c-4b11-9804-bf56cf58b46e",
   "metadata": {},
   "source": [
    "## Compute Analytics"
   ]
  },
  {
   "cell_type": "code",
   "execution_count": 4,
   "id": "3a08985f-1117-477b-ac49-f3efacca342b",
   "metadata": {},
   "outputs": [],
   "source": [
    "# NVF\n",
    "uni_nvf = analytics.nvf(uni_mc, uni_tv, uni_trade_fee, nvf_avg_window, annualization_factor)\n",
    "perp_nvf = analytics.nvf(perp_mc, perp_tv, perp_trade_fee, nvf_avg_window, annualization_factor)\n",
    "\n",
    "# NVF spread (absolute & % diff)\n",
    "abs_nvf_spread = (perp_nvf - uni_nvf).dropna()\n",
    "perc_nvf_spread = (abs_nvf_spread / uni_nvf).dropna()\n",
    "\n",
    "# Determine number of trading days\n",
    "first_trade_date = min(uni_pnl.index)\n",
    "today = pd.Timestamp.today()\n",
    "trade_days = (today - first_trade_date).days\n",
    "\n",
    "# Overview portfolio stats\n",
    "portfolio_perf = analytics.pnl_performance(perp_net_pnl + uni_net_pnl, initial_capital)\n",
    "portfolio_total_ret = analytics.total_return(portfolio_perf)\n",
    "portfolio_ann_ret = (annualization_factor / trade_days) * portfolio_total_ret\n",
    "portfolio_log_ret = analytics.returns(portfolio_perf, 'log')\n",
    "portfolio_arith_ret = analytics.returns(portfolio_perf, 'arith')\n",
    "benchmark_perf = benchmark_price[first_trade_date:end_date]\n",
    "benchmark_log_ret = analytics.returns(benchmark_perf, 'log')\n",
    "benchmark_arith_ret = analytics.returns(benchmark_perf, 'arith')\n",
    "portfolio_ann_vol = np.sqrt(annualization_factor) * analytics.volatility(portfolio_log_ret)\n",
    "portfolio_sr = analytics.sharpe_ratio(portfolio_log_ret, risk_free_rate, annualization_factor)\n",
    "portfolio_ir = analytics.information_ratio(portfolio_arith_ret, benchmark_arith_ret)\n",
    "portfolio_beta = analytics.beta(portfolio_log_ret, benchmark_log_ret)\n",
    "portfolio_alpha = analytics.alpha(portfolio_log_ret, benchmark_log_ret, risk_free_rate, annualization_factor)\n",
    "portfolio_tr = analytics.treynor_ratio(portfolio_log_ret, benchmark_log_ret, risk_free_rate, annualization_factor)\n",
    "portfolio_md = analytics.max_drawdown(portfolio_arith_ret)\n",
    "\n",
    "# Overview benchmark stats\n",
    "benchmark_total_ret = analytics.total_return(benchmark_perf)\n",
    "benchmark_ann_ret = (annualization_factor / trade_days) * benchmark_total_ret\n",
    "benchmark_ann_vol = np.sqrt(annualization_factor) * analytics.volatility(benchmark_log_ret)\n",
    "benchmark_sr = analytics.sharpe_ratio(benchmark_log_ret, risk_free_rate, annualization_factor)\n",
    "benchmark_md = analytics.max_drawdown(benchmark_arith_ret)"
   ]
  },
  {
   "cell_type": "markdown",
   "id": "e711ca35-7cf2-4a7e-b172-8ba40327366c",
   "metadata": {},
   "source": [
    "## Present Analytics"
   ]
  },
  {
   "cell_type": "code",
   "execution_count": 5,
   "id": "7c4d3405-6d6a-44b0-8766-81715b5cdc3e",
   "metadata": {},
   "outputs": [
    {
     "data": {
      "text/html": [
       "<div>\n",
       "<style scoped>\n",
       "    .dataframe tbody tr th:only-of-type {\n",
       "        vertical-align: middle;\n",
       "    }\n",
       "\n",
       "    .dataframe tbody tr th {\n",
       "        vertical-align: top;\n",
       "    }\n",
       "\n",
       "    .dataframe thead th {\n",
       "        text-align: right;\n",
       "    }\n",
       "</style>\n",
       "<table border=\"1\" class=\"dataframe\">\n",
       "  <thead>\n",
       "    <tr style=\"text-align: right;\">\n",
       "      <th></th>\n",
       "      <th>Total return</th>\n",
       "      <th>Annualized return</th>\n",
       "      <th>Volatility</th>\n",
       "      <th>Max drawdown</th>\n",
       "      <th>Sharpe ratio</th>\n",
       "      <th>Information ratio</th>\n",
       "      <th>Treynor ratio</th>\n",
       "      <th>Alpha</th>\n",
       "      <th>Beta</th>\n",
       "    </tr>\n",
       "  </thead>\n",
       "  <tbody>\n",
       "    <tr>\n",
       "      <th>Portfolio</th>\n",
       "      <td>0.003358</td>\n",
       "      <td>0.153220</td>\n",
       "      <td>0.342384</td>\n",
       "      <td>-0.043828</td>\n",
       "      <td>0.446760</td>\n",
       "      <td>0.452953</td>\n",
       "      <td>1.55893</td>\n",
       "      <td>1.39522</td>\n",
       "      <td>0.0981208</td>\n",
       "    </tr>\n",
       "    <tr>\n",
       "      <th>Benchmark</th>\n",
       "      <td>-0.242317</td>\n",
       "      <td>-11.055729</td>\n",
       "      <td>1.470000</td>\n",
       "      <td>-0.232224</td>\n",
       "      <td>-8.612594</td>\n",
       "      <td></td>\n",
       "      <td></td>\n",
       "      <td></td>\n",
       "      <td></td>\n",
       "    </tr>\n",
       "  </tbody>\n",
       "</table>\n",
       "</div>"
      ],
      "text/plain": [
       "           Total return  Annualized return  Volatility  Max drawdown  \\\n",
       "Portfolio      0.003358           0.153220    0.342384     -0.043828   \n",
       "Benchmark     -0.242317         -11.055729    1.470000     -0.232224   \n",
       "\n",
       "           Sharpe ratio Information ratio Treynor ratio    Alpha       Beta  \n",
       "Portfolio      0.446760          0.452953       1.55893  1.39522  0.0981208  \n",
       "Benchmark     -8.612594                                                      "
      ]
     },
     "execution_count": 5,
     "metadata": {},
     "output_type": "execute_result"
    }
   ],
   "source": [
    "# Portfolio and benchmark overview stats\n",
    "portfolio_stats = {\n",
    "    'Total return': portfolio_total_ret,\n",
    "    'Annualized return': portfolio_ann_ret,\n",
    "    'Volatility': portfolio_ann_vol,\n",
    "    'Max drawdown': portfolio_md,\n",
    "    'Sharpe ratio': portfolio_sr,\n",
    "    'Information ratio': portfolio_ir,\n",
    "    'Treynor ratio': portfolio_tr,\n",
    "    'Alpha': portfolio_alpha,\n",
    "    'Beta': portfolio_beta,\n",
    "}\n",
    "benchmark_stats = {\n",
    "    'Total return': benchmark_total_ret,\n",
    "    'Annualized return': benchmark_ann_ret,\n",
    "    'Volatility': benchmark_ann_vol,\n",
    "    'Max drawdown': benchmark_md,\n",
    "    'Sharpe ratio': benchmark_sr,\n",
    "    'Information ratio': '',\n",
    "    'Treynor ratio': '',\n",
    "    'Alpha': '',\n",
    "    'Beta': '',\n",
    "}\n",
    "trade_stats = pd.DataFrame([portfolio_stats, benchmark_stats], index=['Portfolio', 'Benchmark'])\n",
    "trade_stats\n",
    "\n",
    "# TODO: Plot stuff"
   ]
  },
  {
   "cell_type": "markdown",
   "id": "e45e802b-4f83-47be-8ad6-743a20564cfe",
   "metadata": {},
   "source": [
    "## Output Data & Analytics"
   ]
  },
  {
   "cell_type": "code",
   "execution_count": null,
   "id": "998bee39-39b2-4a3f-9d4e-fbf3a6783479",
   "metadata": {},
   "outputs": [],
   "source": []
  }
 ],
 "metadata": {
  "kernelspec": {
   "display_name": "Python 3",
   "language": "python",
   "name": "python3"
  },
  "language_info": {
   "codemirror_mode": {
    "name": "ipython",
    "version": 3
   },
   "file_extension": ".py",
   "mimetype": "text/x-python",
   "name": "python",
   "nbconvert_exporter": "python",
   "pygments_lexer": "ipython3",
   "version": "3.6.9"
  }
 },
 "nbformat": 4,
 "nbformat_minor": 5
}

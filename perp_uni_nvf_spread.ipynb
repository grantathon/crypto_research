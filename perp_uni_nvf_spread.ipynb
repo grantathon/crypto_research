{
 "cells": [
  {
   "cell_type": "markdown",
   "id": "64d4f995-92f6-4b86-86c1-ae4113e3e572",
   "metadata": {},
   "source": [
    "# PERP-UNI NVP Spread Investment Monitor"
   ]
  },
  {
   "cell_type": "code",
   "execution_count": 1,
   "id": "e4f79109-442f-4a90-b707-80dec0067833",
   "metadata": {},
   "outputs": [],
   "source": [
    "import numpy as np\n",
    "import pandas as pd\n",
    "import matplotlib.pyplot as plt\n",
    "\n",
    "import data\n",
    "import analytics\n",
    "\n",
    "%load_ext autoreload\n",
    "%autoreload 2"
   ]
  },
  {
   "cell_type": "markdown",
   "id": "827f7bc2-4c23-48e0-8779-8d106be822bc",
   "metadata": {},
   "source": [
    "## Inputs"
   ]
  },
  {
   "cell_type": "code",
   "execution_count": 2,
   "id": "4b1f352d-a853-458a-b8c9-46e7b3ea746e",
   "metadata": {},
   "outputs": [],
   "source": [
    "start_date = '2020-09-09'\n",
    "end_date = '2021-09-24'\n",
    "dexs = [\n",
    "    'uniswap_v1',\n",
    "    'uniswap_v2',\n",
    "    'uniswap',\n",
    "    'perpetual_protocol',\n",
    "]\n",
    "coins = [\n",
    "    'uniswap',\n",
    "    'perpetual-protocol',\n",
    "]\n",
    "benchmark = 'defipulse-index'\n",
    "nvf_avg_window = 30\n",
    "annualization_factor = 365\n",
    "uni_trade_fee = 0.003\n",
    "perp_trade_fee = 0.001\n",
    "initial_capital = 1978.28\n",
    "risk_free_rate = 0"
   ]
  },
  {
   "cell_type": "markdown",
   "id": "ccbd6205-0510-40b6-94bb-99b0c72ab605",
   "metadata": {},
   "source": [
    "## Get Data"
   ]
  },
  {
   "cell_type": "code",
   "execution_count": 3,
   "id": "a3ef1088-c3f6-406f-a754-8560b46a31b0",
   "metadata": {},
   "outputs": [
    {
     "name": "stdout",
     "output_type": "stream",
     "text": [
      "Getting DEX trading volume...\n",
      "Getting coin market data...\n",
      "- bitcoin\n",
      "Got coin market data\n",
      "- perpetual_protocol\n",
      "- uniswap\n",
      "- uniswap_v2\n",
      "- uniswap_v1\n",
      "Got DEX trading volume\n",
      "Getting coin market data...\n",
      "- perpetual-protocol\n",
      "- uniswap\n",
      "- defipulse-index\n",
      "Got coin market data\n"
     ]
    }
   ],
   "source": [
    "# Call CoinGecko for market data\n",
    "coins.append(benchmark)\n",
    "dex_trading_volume = data.dex_trading_volume(dexs, start_date, end_date)\n",
    "coin_market_data = data.coin_market_data(coins, start_date, end_date)\n",
    "\n",
    "# Prepare DEX trading volume data\n",
    "dex_trading_volume['uniswap'].fillna(0, inplace=True)\n",
    "dex_trading_volume['uniswap_v2'].fillna(0, inplace=True)\n",
    "dex_trading_volume['uniswap_v1'].fillna(0, inplace=True)\n",
    "uni_tv = dex_trading_volume['uniswap'] + dex_trading_volume['uniswap_v2'] + dex_trading_volume['uniswap_v1']\n",
    "uni_tv = uni_tv[uni_tv != 0]\n",
    "perp_tv = dex_trading_volume['perpetual_protocol'].dropna()\n",
    "\n",
    "# Prepare coin and benchmark market data\n",
    "uni_price = coin_market_data['uniswap price'].dropna()\n",
    "uni_mc = coin_market_data['uniswap market cap'].dropna()\n",
    "perp_price = coin_market_data['perpetual-protocol price'].dropna()\n",
    "perp_mc = coin_market_data['perpetual-protocol market cap'].dropna()\n",
    "benchmark_price = coin_market_data['defipulse-index price'].dropna()\n",
    "benchmark_mc = coin_market_data['defipulse-index market cap'].dropna()\n",
    "\n",
    "# Import and format trade data\n",
    "funding_payments = pd.read_csv('input/funding_payments.csv', index_col='time', parse_dates=True)\n",
    "pnl = pd.read_csv('input/pnl.csv', index_col='day')\n",
    "pnl = pnl.drop(' Total')\n",
    "pnl.index = pnl.index.map(lambda x: pd.to_datetime(float(x), unit='s'))\n",
    "\n",
    "# Prepare trade data\n",
    "funding_payments = funding_payments.groupby('future').resample('D').sum()\n",
    "perp_fp = funding_payments.loc['PERP-PERP']['payment']\n",
    "perp_fp.index = perp_fp.index.tz_localize(None)\n",
    "uni_fp = funding_payments.loc['UNI-PERP']['payment']\n",
    "uni_fp.index = uni_fp.index.tz_localize(None)\n",
    "perp_pnl = pnl['PERP-PERP'].sort_index()\n",
    "uni_pnl = pnl['UNI-PERP'].sort_index()"
   ]
  },
  {
   "cell_type": "markdown",
   "id": "dec98c1b-7e6c-4b11-9804-bf56cf58b46e",
   "metadata": {},
   "source": [
    "## Compute Analytics"
   ]
  },
  {
   "cell_type": "code",
   "execution_count": 4,
   "id": "3a08985f-1117-477b-ac49-f3efacca342b",
   "metadata": {},
   "outputs": [],
   "source": [
    "# NVF\n",
    "uni_nvf = analytics.nvf(uni_mc, uni_tv, uni_trade_fee, nvf_avg_window, annualization_factor)\n",
    "perp_nvf = analytics.nvf(perp_mc, perp_tv, perp_trade_fee, nvf_avg_window, annualization_factor)\n",
    "\n",
    "# NVF spread (absolute & % diff)\n",
    "abs_nvf_spread = (perp_nvf - uni_nvf).dropna()\n",
    "perc_nvf_spread = (abs_nvf_spread / uni_nvf).dropna()\n",
    "\n",
    "# Determine number of trading days\n",
    "first_trade_date = min(uni_pnl.index)\n",
    "today = pd.Timestamp.today()\n",
    "trade_days = (today - first_trade_date).days\n",
    "\n",
    "# Overview trade stats\n",
    "trade_perf = analytics.pnl_performance(perp_pnl+uni_pnl, initial_capital)\n",
    "total_ret = analytics.total_return(trade_perf)\n",
    "trade_ann_ret = (annualization_factor / trade_days) * total_ret\n",
    "trade_log_ret = analytics.returns(trade_perf, 'log')\n",
    "trade_arith_ret = analytics.returns(trade_perf, 'arith')\n",
    "benchmark_log_ret = analytics.returns(benchmark_price, 'log')\n",
    "benchmark_arith_ret = analytics.returns(benchmark_price, 'arith')\n",
    "trade_ann_vol = np.sqrt(annualization_factor) * analytics.volatility(trade_log_ret)\n",
    "trade_sr = analytics.sharpe_ratio(trade_log_ret, risk_free_rate, annualization_factor)\n",
    "trade_ir = analytics.information_ratio(trade_arith_ret, benchmark_arith_ret)\n",
    "trade_beta = analytics.beta(trade_log_ret, benchmark_log_ret)\n",
    "trade_alpha = analytics.alpha(trade_log_ret, benchmark_log_ret, risk_free_rate, annualization_factor)\n",
    "trade_tr = analytics.treynor_ratio(trade_log_ret, benchmark_log_ret, risk_free_rate, annualization_factor)\n",
    "trade_md = analytics.max_drawdown(trade_arith_ret)"
   ]
  },
  {
   "cell_type": "markdown",
   "id": "e711ca35-7cf2-4a7e-b172-8ba40327366c",
   "metadata": {},
   "source": [
    "## Present Analytics"
   ]
  },
  {
   "cell_type": "code",
   "execution_count": 5,
   "id": "7c4d3405-6d6a-44b0-8766-81715b5cdc3e",
   "metadata": {},
   "outputs": [
    {
     "data": {
      "text/html": [
       "<div>\n",
       "<style scoped>\n",
       "    .dataframe tbody tr th:only-of-type {\n",
       "        vertical-align: middle;\n",
       "    }\n",
       "\n",
       "    .dataframe tbody tr th {\n",
       "        vertical-align: top;\n",
       "    }\n",
       "\n",
       "    .dataframe thead th {\n",
       "        text-align: right;\n",
       "    }\n",
       "</style>\n",
       "<table border=\"1\" class=\"dataframe\">\n",
       "  <thead>\n",
       "    <tr style=\"text-align: right;\">\n",
       "      <th></th>\n",
       "      <th>Total return</th>\n",
       "      <th>Annualized return</th>\n",
       "      <th>Volatility</th>\n",
       "      <th>Sharpe ratio</th>\n",
       "      <th>Information ratio</th>\n",
       "      <th>Treynor ratio</th>\n",
       "      <th>Alpha</th>\n",
       "      <th>Beta</th>\n",
       "      <th>Max drawdown</th>\n",
       "    </tr>\n",
       "  </thead>\n",
       "  <tbody>\n",
       "    <tr>\n",
       "      <th>All</th>\n",
       "      <td>0.016611</td>\n",
       "      <td>0.866154</td>\n",
       "      <td>0.866154</td>\n",
       "      <td>2.462028</td>\n",
       "      <td>0.389309</td>\n",
       "      <td>6.937949</td>\n",
       "      <td>0.742656</td>\n",
       "      <td>0.123817</td>\n",
       "      <td>-0.04124</td>\n",
       "    </tr>\n",
       "  </tbody>\n",
       "</table>\n",
       "</div>"
      ],
      "text/plain": [
       "     Total return  Annualized return  Volatility  Sharpe ratio  \\\n",
       "All      0.016611           0.866154    0.866154      2.462028   \n",
       "\n",
       "     Information ratio  Treynor ratio     Alpha      Beta  Max drawdown  \n",
       "All           0.389309       6.937949  0.742656  0.123817      -0.04124  "
      ]
     },
     "execution_count": 5,
     "metadata": {},
     "output_type": "execute_result"
    }
   ],
   "source": [
    "# Overview trade stats (all, 30 days, 60 days, etc.)\n",
    "all_trade_stats = {\n",
    "    'Total return': total_ret,\n",
    "    'Annualized return': trade_ann_ret,\n",
    "    'Volatility': trade_ann_ret,\n",
    "    'Sharpe ratio': trade_sr,\n",
    "    'Information ratio': trade_ir,\n",
    "    'Treynor ratio': trade_tr,\n",
    "    'Alpha': trade_alpha,\n",
    "    'Beta': trade_beta,\n",
    "    'Max drawdown': trade_md,\n",
    "}\n",
    "trade_stats = pd.DataFrame(all_trade_stats, index=['All'])\n",
    "trade_stats\n",
    "\n",
    "# TODO: Create charts"
   ]
  },
  {
   "cell_type": "markdown",
   "id": "e45e802b-4f83-47be-8ad6-743a20564cfe",
   "metadata": {},
   "source": [
    "## Output Analytics"
   ]
  },
  {
   "cell_type": "code",
   "execution_count": null,
   "id": "998bee39-39b2-4a3f-9d4e-fbf3a6783479",
   "metadata": {},
   "outputs": [],
   "source": []
  }
 ],
 "metadata": {
  "kernelspec": {
   "display_name": "Python 3",
   "language": "python",
   "name": "python3"
  },
  "language_info": {
   "codemirror_mode": {
    "name": "ipython",
    "version": 3
   },
   "file_extension": ".py",
   "mimetype": "text/x-python",
   "name": "python",
   "nbconvert_exporter": "python",
   "pygments_lexer": "ipython3",
   "version": "3.6.9"
  }
 },
 "nbformat": 4,
 "nbformat_minor": 5
}
